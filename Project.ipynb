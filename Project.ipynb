{
 "cells": [
  {
   "cell_type": "code",
   "execution_count": 2,
   "metadata": {
    "colab": {
     "base_uri": "https://localhost:8080/"
    },
    "id": "tNhDUBcRRe0H",
    "outputId": "a5fe8502-b8fe-4a10-a383-d845b5fd74dd"
   },
   "outputs": [
    {
     "name": "stdout",
     "output_type": "stream",
     "text": [
      "Requirement already satisfied: pyspark in c:\\users\\athith.m.s\\anaconda3\\lib\\site-packages (3.5.1)\n",
      "Requirement already satisfied: py4j==0.10.9.7 in c:\\users\\athith.m.s\\anaconda3\\lib\\site-packages (from pyspark) (0.10.9.7)\n"
     ]
    }
   ],
   "source": [
    "!pip install pyspark"
   ]
  },
  {
   "cell_type": "code",
   "execution_count": 4,
   "metadata": {
    "id": "92g_lNmxSOI7"
   },
   "outputs": [],
   "source": [
    "from pyspark.sql import SparkSession\n",
    "from pyspark.sql import SQLContext\n",
    "from pyspark.ml.evaluation import RegressionEvaluator\n",
    "from pyspark.ml.tuning import CrossValidator\n",
    "from pyspark.ml.recommendation import ALS\n",
    "from pyspark.sql.functions import udf,col,when\n",
    "import numpy as np\n",
    "from IPython.display import Image\n",
    "from IPython.display import display\n",
    "from IPython.display import clear_output"
   ]
  },
  {
   "cell_type": "code",
   "execution_count": null,
   "metadata": {
    "id": "yoXDnqZUSZFo"
   },
   "outputs": [],
   "source": [
    "directory=\"C:\\Users\\ATHITH.M.S\\Downloads\\PROJECT\\ml-latest-small.zip\""
   ]
  },
  {
   "cell_type": "code",
   "execution_count": null,
   "metadata": {
    "colab": {
     "base_uri": "https://localhost:8080/"
    },
    "id": "OY4NvStoSi4y",
    "outputId": "a5099a49-4633-45ea-b520-34d0e4bc2ef7"
   },
   "outputs": [],
   "source": [
    "!ls \"C:\\Users\\ATHITH.M.S\\Downloads\\PROJECT\\ml-latest-small.zip\""
   ]
  },
  {
   "cell_type": "code",
   "execution_count": null,
   "metadata": {
    "id": "yWY7MAelSqLi"
   },
   "outputs": [],
   "source": [
    "spark = SparkSession.builder.appName('Bots_Squad').getOrCreate()"
   ]
  },
  {
   "cell_type": "code",
   "execution_count": null,
   "metadata": {
    "colab": {
     "base_uri": "https://localhost:8080/"
    },
    "id": "Z-qmLs1_TCsw",
    "outputId": "8a00179f-8509-4b5b-c5a6-22e10c6ce4e5"
   },
   "outputs": [],
   "source": [
    "sc = spark.sparkContext\n",
    "sqlContext = SQLContext(sc)"
   ]
  },
  {
   "cell_type": "code",
   "execution_count": null,
   "metadata": {
    "colab": {
     "base_uri": "https://localhost:8080/"
    },
    "id": "9FXXSahQTSR_",
    "outputId": "13d7f5c6-fcf0-4756-9f8d-ed488ffb72a6"
   },
   "outputs": [],
   "source": [
    "ratings_df = spark.read.csv(directory+'/ratings.csv', inferSchema=True, header=True)\n",
    "ratings_df.printSchema()"
   ]
  },
  {
   "cell_type": "code",
   "execution_count": 8,
   "metadata": {
    "colab": {
     "base_uri": "https://localhost:8080/"
    },
    "id": "COhzyMWJTimg",
    "outputId": "95a44ecc-b7c9-4680-e1c2-3457e2697cb9"
   },
   "outputs": [
    {
     "name": "stdout",
     "output_type": "stream",
     "text": [
      "+------+-------+------+---------+\n",
      "|userId|movieId|rating|timestamp|\n",
      "+------+-------+------+---------+\n",
      "|     1|      1|   4.0|964982703|\n",
      "|     1|      3|   4.0|964981247|\n",
      "|     1|      6|   4.0|964982224|\n",
      "|     1|     47|   5.0|964983815|\n",
      "|     1|     50|   5.0|964982931|\n",
      "|     1|     70|   3.0|964982400|\n",
      "|     1|    101|   5.0|964980868|\n",
      "+------+-------+------+---------+\n",
      "only showing top 7 rows\n",
      "\n"
     ]
    }
   ],
   "source": [
    "ratings_df.show(7)"
   ]
  },
  {
   "cell_type": "code",
   "execution_count": 26,
   "metadata": {
    "colab": {
     "base_uri": "https://localhost:8080/"
    },
    "id": "nJPG8BvgT2K7",
    "outputId": "3f4d70bb-ad0f-4eb7-936d-578d17221192"
   },
   "outputs": [
    {
     "name": "stdout",
     "output_type": "stream",
     "text": [
      "root\n",
      " |-- movieId: integer (nullable = true)\n",
      " |-- title: string (nullable = true)\n",
      " |-- genres: string (nullable = true)\n",
      "\n"
     ]
    }
   ],
   "source": [
    "movies_df = spark.read.csv(directory+'/movies.csv',inferSchema=True,header=True)\n",
    "movies_df.printSchema ()"
   ]
  },
  {
   "cell_type": "code",
   "execution_count": 10,
   "metadata": {
    "colab": {
     "base_uri": "https://localhost:8080/"
    },
    "id": "OTpXTY2VT-h0",
    "outputId": "48ab04d9-4f8f-4ab8-9c2c-c60a0efabb23"
   },
   "outputs": [
    {
     "name": "stdout",
     "output_type": "stream",
     "text": [
      "+-------+--------------------+--------------------+\n",
      "|movieId|               title|              genres|\n",
      "+-------+--------------------+--------------------+\n",
      "|      1|    Toy Story (1995)|Adventure|Animati...|\n",
      "|      2|      Jumanji (1995)|Adventure|Childre...|\n",
      "|      3|Grumpier Old Men ...|      Comedy|Romance|\n",
      "|      4|Waiting to Exhale...|Comedy|Drama|Romance|\n",
      "|      5|Father of the Bri...|              Comedy|\n",
      "|      6|         Heat (1995)|Action|Crime|Thri...|\n",
      "|      7|      Sabrina (1995)|      Comedy|Romance|\n",
      "+-------+--------------------+--------------------+\n",
      "only showing top 7 rows\n",
      "\n"
     ]
    }
   ],
   "source": [
    "movies_df.show(7)"
   ]
  },
  {
   "cell_type": "code",
   "execution_count": 27,
   "metadata": {
    "colab": {
     "base_uri": "https://localhost:8080/"
    },
    "id": "wo78a-twUD64",
    "outputId": "3ce41da0-465e-4795-85fd-26b64e56cfe3"
   },
   "outputs": [
    {
     "name": "stdout",
     "output_type": "stream",
     "text": [
      "root\n",
      " |-- movieId: integer (nullable = true)\n",
      " |-- imdbId: integer (nullable = true)\n",
      " |-- tmdbId: integer (nullable = true)\n",
      "\n"
     ]
    }
   ],
   "source": [
    "links_df = spark. read. csv(directory+ '/links.csv', inferSchema=True, header=True)\n",
    "links_df.printSchema()"
   ]
  },
  {
   "cell_type": "code",
   "execution_count": 28,
   "metadata": {
    "id": "L1ZgTuoOUdCl"
   },
   "outputs": [],
   "source": [
    "training_df,validation_df=ratings_df.randomSplit([0.8,0.2])"
   ]
  },
  {
   "cell_type": "code",
   "execution_count": 29,
   "metadata": {
    "id": "IacVz95kXFyV"
   },
   "outputs": [],
   "source": [
    "iterations=10\n",
    "regularization_parameter=0.1\n",
    "rank=4\n",
    "error=[]\n",
    "err=0"
   ]
  },
  {
   "cell_type": "code",
   "execution_count": 30,
   "metadata": {
    "colab": {
     "base_uri": "https://localhost:8080/"
    },
    "id": "pfpMke1dYGbR",
    "outputId": "0b10976f-4081-40b4-db5a-6f46f5438dc0"
   },
   "outputs": [
    {
     "name": "stdout",
     "output_type": "stream",
     "text": [
      "Root Mean Square Error=0.8769362552515131\n"
     ]
    }
   ],
   "source": [
    "als = ALS(maxIter=iterations,regParam=regularization_parameter,rank=5,userCol=\"userId\",itemCol=\"movieId\",ratingCol=\"rating\")\n",
    "model=als.fit(training_df)\n",
    "predictions=model.transform(validation_df)\n",
    "new_predictions=predictions.filter(col('prediction')!=np.nan)\n",
    "evaluator=RegressionEvaluator(metricName=\"rmse\",labelCol=\"rating\",predictionCol=\"prediction\")\n",
    "rmse=evaluator.evaluate(new_predictions)\n",
    "print(\"Root Mean Square Error=\"+str(rmse))"
   ]
  },
  {
   "cell_type": "code",
   "execution_count": 31,
   "metadata": {
    "colab": {
     "base_uri": "https://localhost:8080/"
    },
    "id": "_KNJkVcTYOUz",
    "outputId": "59c8e3ed-5a1f-4b4c-b849-2e6307026716"
   },
   "outputs": [
    {
     "name": "stdout",
     "output_type": "stream",
     "text": [
      "Root Mean Square Error=0.8828716662509187\n",
      "Root Mean Square Error=0.8769362552515114\n",
      "Root Mean Square Error=0.88231025565326\n",
      "Root Mean Square Error=0.8818561222345047\n",
      "Root Mean Square Error=0.8795447046455943\n",
      "Root Mean Square Error=0.8795777716457857\n"
     ]
    }
   ],
   "source": [
    "for rank in range(4,10):\n",
    "    als = ALS(maxIter=iterations,regParam=regularization_parameter,rank=rank,userCol=\"userId\",itemCol=\"movieId\",ratingCol=\"rating\")\n",
    "    model=als.fit(training_df)\n",
    "    predictions=model.transform(validation_df)\n",
    "    new_predictions=predictions.filter(col('prediction')!=np.nan)\n",
    "    evaluator=RegressionEvaluator(metricName=\"rmse\",labelCol=\"rating\",predictionCol=\"prediction\")\n",
    "    rmse=evaluator.evaluate(new_predictions)\n",
    "    print(\"Root Mean Square Error=\"+str(rmse))\n"
   ]
  },
  {
   "cell_type": "code",
   "execution_count": 32,
   "metadata": {
    "id": "txw43mg9aNEO"
   },
   "outputs": [],
   "source": [
    "from pyspark.ml.tuning import *"
   ]
  },
  {
   "cell_type": "code",
   "execution_count": 33,
   "metadata": {
    "id": "8tt4RoEFdZij"
   },
   "outputs": [],
   "source": [
    "from pyspark.ml.tuning import ParamGridBuilder\n",
    "als1 = ALS(maxIter=iterations,regParam=regularization_parameter,rank=rank,userCol=\"userId\",itemCol=\"movieId\",ratingCol=\"rating\")\n",
    "paramGrid = ParamGridBuilder()\\\n",
    ".addGrid(als1.regParam,[0.1,0.01,0.18])\\\n",
    ".addGrid(als1.rank,range(4,10))\\\n",
    ".build()\n",
    "evaluator=RegressionEvaluator(metricName=\"rmse\",labelCol=\"rating\",predictionCol=\"prediction\")\n",
    "crossval=CrossValidator(estimator=als1,estimatorParamMaps=paramGrid,evaluator=evaluator,numFolds=5)\n",
    "cvModel=crossval.fit(training_df)"
   ]
  },
  {
   "cell_type": "code",
   "execution_count": 22,
   "metadata": {
    "colab": {
     "base_uri": "https://localhost:8080/"
    },
    "id": "i0PEdb-akJxg",
    "outputId": "51c555fa-fb3c-48fe-a670-03f90f4117c0"
   },
   "outputs": [
    {
     "name": "stdout",
     "output_type": "stream",
     "text": [
      "+------+-------+------+---------+----------+\n",
      "|userId|movieId|rating|timestamp|prediction|\n",
      "+------+-------+------+---------+----------+\n",
      "|     1|     70|   3.0|964982400| 3.4734728|\n",
      "|     1|    110|   4.0|964982176|  4.811602|\n",
      "|     1|    163|   5.0|964983650| 4.1751533|\n",
      "|     1|    216|   5.0|964981208|   3.99536|\n",
      "|     1|    349|   4.0|964982563| 3.8920357|\n",
      "|     1|    954|   5.0|964983219| 4.7979712|\n",
      "|     1|   1031|   5.0|964982653| 4.3012133|\n",
      "|     1|   1127|   4.0|964982513| 3.9007716|\n",
      "|     1|   1213|   5.0|964982951|  4.848526|\n",
      "|     1|   1258|   3.0|964983414|  4.394889|\n",
      "|     1|   1291|   5.0|964981909|  4.739691|\n",
      "|     1|   1396|   3.0|964983017| 4.0567617|\n",
      "|     1|   1473|   4.0|964980875|       NaN|\n",
      "|     1|   1617|   5.0|964982951|  4.333606|\n",
      "|     1|   1967|   4.0|964981710|  4.459849|\n",
      "|     1|   2048|   5.0|964982791| 3.8751962|\n",
      "|     1|   2078|   5.0|964982838| 4.4790387|\n",
      "|     1|   2115|   5.0|964982529|  4.453764|\n",
      "|     1|   2174|   4.0|964981680|  4.204715|\n",
      "|     1|   2253|   2.0|964981775| 2.7191494|\n",
      "|     1|   2387|   5.0|964983123| 2.8756819|\n",
      "|     1|   2529|   5.0|964982242| 4.6266303|\n",
      "|     1|   2617|   2.0|964982588|  3.635163|\n",
      "|     1|   2692|   5.0|964981855|  4.400159|\n",
      "|     1|   2700|   5.0|964980985| 4.3133225|\n",
      "+------+-------+------+---------+----------+\n",
      "only showing top 25 rows\n",
      "\n"
     ]
    }
   ],
   "source": [
    "predictions.show(n=25)"
   ]
  },
  {
   "cell_type": "code",
   "execution_count": 34,
   "metadata": {
    "colab": {
     "base_uri": "https://localhost:8080/"
    },
    "id": "eibKWGGKkfw_",
    "outputId": "5960cc1c-7222-4eaa-de5f-494c473736c7"
   },
   "outputs": [
    {
     "name": "stdout",
     "output_type": "stream",
     "text": [
      "+------+--------------------+--------------------+----------+\n",
      "|userId|               title|              genres|prediction|\n",
      "+------+--------------------+--------------------+----------+\n",
      "|   580|Men in Black (a.k...|Action|Comedy|Sci-Fi| 3.2481847|\n",
      "|    34|Men in Black (a.k...|Action|Comedy|Sci-Fi| 3.3858495|\n",
      "|   368|Men in Black (a.k...|Action|Comedy|Sci-Fi| 2.8494778|\n",
      "|   368|Children of the C...|     Horror|Thriller| 1.7317998|\n",
      "|   101| Galaxy Quest (1999)|Adventure|Comedy|...| 3.0401516|\n",
      "|   385|Hudsucker Proxy, ...|              Comedy| 3.2788544|\n",
      "|    28|The Devil's Advoc...|Drama|Mystery|Thr...| 2.5680866|\n",
      "|   587|Men in Black (a.k...|Action|Comedy|Sci-Fi| 3.7186513|\n",
      "|    27|American Tail: Fi...|Adventure|Animati...| 2.7136788|\n",
      "|   606|The Devil's Advoc...|Drama|Mystery|Thr...| 3.4824798|\n",
      "|   230|Men in Black (a.k...|Action|Comedy|Sci-Fi| 2.3911674|\n",
      "|   232| Galaxy Quest (1999)|Adventure|Comedy|...| 3.1768372|\n",
      "|   346|Before Sunset (2004)|       Drama|Romance| 3.5740757|\n",
      "|   599|High School High ...|              Comedy| 1.0709176|\n",
      "|   599|Men in Black (a.k...|Action|Comedy|Sci-Fi|   2.83087|\n",
      "+------+--------------------+--------------------+----------+\n",
      "only showing top 15 rows\n",
      "\n"
     ]
    }
   ],
   "source": [
    "predictions.join(movies_df,\"movieId\").select(\"userId\",\"title\",\"genres\",\"prediction\").show(15)\n"
   ]
  },
  {
   "cell_type": "code",
   "execution_count": 35,
   "metadata": {
    "colab": {
     "base_uri": "https://localhost:8080/"
    },
    "id": "w-N1DYrSkh-o",
    "outputId": "760e1f42-597c-419d-a371-6783332450a5"
   },
   "outputs": [
    {
     "name": "stdout",
     "output_type": "stream",
     "text": [
      "+------+--------------------+--------------------+------+----------+\n",
      "|userId|               title|              genres|tmdbId|prediction|\n",
      "+------+--------------------+--------------------+------+----------+\n",
      "|   599|Cutthroat Island ...|Action|Adventure|...|  1408| 2.2488456|\n",
      "|   599|    Assassins (1995)|Action|Crime|Thri...|  9691| 2.2640226|\n",
      "|   599|     Clueless (1995)|      Comedy|Romance|  9603|  2.817207|\n",
      "|   599|  Restoration (1995)|               Drama| 35196| 2.0645475|\n",
      "|   599|     Bio-Dome (1996)|              Comedy|  9536| 1.9533672|\n",
      "+------+--------------------+--------------------+------+----------+\n",
      "only showing top 5 rows\n",
      "\n"
     ]
    }
   ],
   "source": [
    "for_one_user= predictions.filter(col(\"userId\")==599).join(movies_df,\"movieId\").join(links_df,\"movieId\").select(\"userId\",\"title\",\"genres\",\"tmdbId\",\"prediction\")\n",
    "for_one_user.show(5)\n"
   ]
  },
  {
   "cell_type": "code",
   "execution_count": 36,
   "metadata": {
    "colab": {
     "base_uri": "https://localhost:8080/"
    },
    "id": "9K7kHO34kmtD",
    "outputId": "0a026112-a009-4324-d495-d3f795ee01ab"
   },
   "outputs": [
    {
     "name": "stdout",
     "output_type": "stream",
     "text": [
      "Cutthroat Island (1995)\n",
      "Assassins (1995)\n",
      "Clueless (1995)\n",
      "Restoration (1995)\n",
      "Bio-Dome (1996)\n"
     ]
    }
   ],
   "source": [
    "import webbrowser\n",
    "link=\"https://www.themoviedb.org/movie/\"\n",
    "for movie in for_one_user.take(5):\n",
    "    movieURL=link+str(movie.tmdbId)\n",
    "    print(movie.title)\n",
    "    webbrowser.open(movieURL)"
   ]
  },
  {
   "cell_type": "code",
   "execution_count": 37,
   "metadata": {
    "id": "7qTFB5OKKQNp"
   },
   "outputs": [],
   "source": [
    "userRecommends=model.recommendForAllUsers(5)\n",
    "movieRecommends=model.recommendForAllItems(5)"
   ]
  },
  {
   "cell_type": "code",
   "execution_count": 39,
   "metadata": {
    "colab": {
     "base_uri": "https://localhost:8080/"
    },
    "id": "ScaVuT33KbID",
    "outputId": "8cf8f5ee-8952-42c8-b11a-b6f60e70952c"
   },
   "outputs": [
    {
     "name": "stdout",
     "output_type": "stream",
     "text": [
      "root\n",
      " |-- userId: integer (nullable = false)\n",
      " |-- recommendations: array (nullable = true)\n",
      " |    |-- element: struct (containsNull = true)\n",
      " |    |    |-- movieId: integer (nullable = true)\n",
      " |    |    |-- rating: float (nullable = true)\n",
      "\n"
     ]
    }
   ],
   "source": [
    "userRecommends.printSchema()\n"
   ]
  },
  {
   "cell_type": "code",
   "execution_count": 40,
   "metadata": {
    "colab": {
     "base_uri": "https://localhost:8080/"
    },
    "id": "Gb9FYvh6Kl96",
    "outputId": "029e9506-2aa7-4ed7-d36f-85f5fab78f66"
   },
   "outputs": [
    {
     "name": "stdout",
     "output_type": "stream",
     "text": [
      "+------+-----------------------------------+\n",
      "|userId|movieId                            |\n",
      "+------+-----------------------------------+\n",
      "|1     |[3379, 86377, 8477, 4441, 92535]   |\n",
      "|2     |[5075, 131724, 67618, 71462, 3379] |\n",
      "|3     |[6835, 5919, 5181, 4518, 7991]     |\n",
      "|4     |[89118, 5034, 3067, 7025, 446]     |\n",
      "|5     |[8477, 148881, 86377, 3266, 6818]  |\n",
      "|6     |[3086, 5466, 85774, 67618, 940]    |\n",
      "|7     |[86377, 92535, 8477, 86345, 148881]|\n",
      "|8     |[3379, 951, 7008, 171495, 6666]    |\n",
      "|9     |[132333, 5915, 3030, 7025, 26681]  |\n",
      "|10    |[34332, 157296, 4535, 89118, 71579]|\n",
      "+------+-----------------------------------+\n",
      "only showing top 10 rows\n",
      "\n"
     ]
    }
   ],
   "source": [
    "userRecommends.select(\"userId\",\"recommendations.movieId\").show(10,False)\n"
   ]
  },
  {
   "cell_type": "code",
   "execution_count": 41,
   "metadata": {
    "colab": {
     "base_uri": "https://localhost:8080/"
    },
    "id": "mJQGXA_kKyMf",
    "outputId": "d964b6a7-fe57-4e24-c831-6f68b9592288"
   },
   "outputs": [
    {
     "name": "stdout",
     "output_type": "stream",
     "text": [
      "root\n",
      " |-- movieId: integer (nullable = false)\n",
      " |-- recommendations: array (nullable = true)\n",
      " |    |-- element: struct (containsNull = true)\n",
      " |    |    |-- userId: integer (nullable = true)\n",
      " |    |    |-- rating: float (nullable = true)\n",
      "\n"
     ]
    }
   ],
   "source": [
    "movieRecommends.printSchema()\n"
   ]
  },
  {
   "cell_type": "code",
   "execution_count": 43,
   "metadata": {
    "colab": {
     "base_uri": "https://localhost:8080/"
    },
    "id": "p3pWZeT2LEK4",
    "outputId": "da82e9ad-d9a1-49ae-ab29-a91289dc15d5"
   },
   "outputs": [
    {
     "name": "stdout",
     "output_type": "stream",
     "text": [
      "+-------+-------------------------+\n",
      "|movieId|userId                   |\n",
      "+-------+-------------------------+\n",
      "|1      |[53, 43, 201, 1, 452]    |\n",
      "|3      |[53, 43, 243, 276, 519]  |\n",
      "|5      |[53, 43, 543, 337, 344]  |\n",
      "|6      |[53, 93, 276, 452, 243]  |\n",
      "|9      |[492, 360, 337, 303, 151]|\n",
      "|12     |[584, 543, 192, 53, 485] |\n",
      "|13     |[543, 77, 498, 344, 267] |\n",
      "|15     |[543, 53, 136, 327, 112] |\n",
      "|16     |[53, 494, 375, 122, 42]  |\n",
      "|17     |[59, 579, 375, 406, 4]   |\n",
      "+-------+-------------------------+\n",
      "only showing top 10 rows\n",
      "\n"
     ]
    }
   ],
   "source": [
    "movieRecommends.select(\"movieId\",\"recommendations.userId\").show(10,False)\n"
   ]
  },
  {
   "cell_type": "code",
   "execution_count": 44,
   "metadata": {
    "id": "kRZN1m3qLJzC"
   },
   "outputs": [],
   "source": [
    "users=ratings_df.select(\"userId\").distinct().limit(5)\n"
   ]
  },
  {
   "cell_type": "code",
   "execution_count": 45,
   "metadata": {
    "colab": {
     "base_uri": "https://localhost:8080/"
    },
    "id": "xKzvgDIOLN5Z",
    "outputId": "b812cd83-c4cd-4f89-d5c2-a9c3882bc509"
   },
   "outputs": [
    {
     "name": "stdout",
     "output_type": "stream",
     "text": [
      "+------+\n",
      "|userId|\n",
      "+------+\n",
      "|   148|\n",
      "|   463|\n",
      "|   471|\n",
      "|   496|\n",
      "|   243|\n",
      "+------+\n",
      "\n"
     ]
    }
   ],
   "source": [
    "users.show()\n"
   ]
  },
  {
   "cell_type": "code",
   "execution_count": 46,
   "metadata": {
    "colab": {
     "base_uri": "https://localhost:8080/"
    },
    "id": "g3PLTn6dLTzN",
    "outputId": "d1601af1-8c04-4f36-ad6a-466b316bb803"
   },
   "outputs": [
    {
     "name": "stdout",
     "output_type": "stream",
     "text": [
      "+------+--------------------+\n",
      "|userId|     recommendations|\n",
      "+------+--------------------+\n",
      "|   471|[{89904, 5.26302}...|\n",
      "|   463|[{86377, 5.17106}...|\n",
      "|   243|[{86377, 6.685316...|\n",
      "|   496|[{8477, 5.16287},...|\n",
      "|   148|[{183897, 4.93593...|\n",
      "+------+--------------------+\n",
      "\n"
     ]
    }
   ],
   "source": [
    "userSubsetRecs = model.recommendForUserSubset(users,10)\n",
    "userSubsetRecs.show()\n"
   ]
  },
  {
   "cell_type": "code",
   "execution_count": 47,
   "metadata": {
    "colab": {
     "base_uri": "https://localhost:8080/"
    },
    "id": "tpo6LMzKLYWY",
    "outputId": "169d9670-2d92-45f4-fdeb-d6738508e049"
   },
   "outputs": [
    {
     "name": "stdout",
     "output_type": "stream",
     "text": [
      "+------+------------------------------------------------------------------------+\n",
      "|userId|movieId                                                                 |\n",
      "+------+------------------------------------------------------------------------+\n",
      "|471   |[89904, 8477, 3379, 3266, 7008, 1232, 187, 96004, 215, 171495]          |\n",
      "|463   |[86377, 80906, 86347, 86345, 55721, 60943, 59018, 92535, 179133, 175431]|\n",
      "|243   |[86377, 86347, 86345, 92535, 85774, 5075, 80906, 3972, 115713, 115122]  |\n",
      "|496   |[8477, 148881, 71899, 7767, 3266, 73344, 26131, 7099, 2677, 89759]      |\n",
      "|148   |[183897, 5075, 93008, 77846, 25906, 5466, 188751, 174909, 98491, 67618] |\n",
      "+------+------------------------------------------------------------------------+\n",
      "\n"
     ]
    }
   ],
   "source": [
    "userSubsetRecs.select(\"userId\",\"recommendations.movieId\").show(10,False)\n"
   ]
  },
  {
   "cell_type": "code",
   "execution_count": 48,
   "metadata": {
    "colab": {
     "base_uri": "https://localhost:8080/"
    },
    "id": "1E8l5solLb-D",
    "outputId": "d0f76001-8b15-45ea-c605-35ea8178bacc"
   },
   "outputs": [
    {
     "name": "stdout",
     "output_type": "stream",
     "text": [
      "+-------+\n",
      "|movieId|\n",
      "+-------+\n",
      "|   1580|\n",
      "|   2366|\n",
      "|   3175|\n",
      "|   1088|\n",
      "|  32460|\n",
      "+-------+\n",
      "\n"
     ]
    }
   ],
   "source": [
    "movies=ratings_df.select(\"movieId\").distinct().limit(5)\n",
    "movies.show()"
   ]
  },
  {
   "cell_type": "code",
   "execution_count": 49,
   "metadata": {
    "colab": {
     "base_uri": "https://localhost:8080/"
    },
    "id": "jdp___EyLeZO",
    "outputId": "6f80a766-4d87-4736-b053-a97c051e1d6c"
   },
   "outputs": [
    {
     "name": "stdout",
     "output_type": "stream",
     "text": [
      "+-------+-------------------------------------------------+\n",
      "|movieId|userId                                           |\n",
      "+-------+-------------------------------------------------+\n",
      "|1580   |[53, 543, 337, 43, 452, 276, 492, 475, 93, 69]   |\n",
      "|32460  |[53, 327, 112, 543, 99, 55, 371, 548, 258, 261]  |\n",
      "|3175   |[43, 53, 452, 276, 169, 579, 456, 201, 93, 492]  |\n",
      "|2366   |[244, 505, 373, 572, 597, 98, 35, 9, 40, 209]    |\n",
      "|1088   |[554, 367, 393, 579, 12, 543, 224, 413, 558, 488]|\n",
      "+-------+-------------------------------------------------+\n",
      "\n"
     ]
    }
   ],
   "source": [
    "movieSubsetRecs = model.recommendForItemSubset(movies,10)\n",
    "movieSubsetRecs.select(\"movieId\",\"recommendations.userId\").show(10,False)"
   ]
  },
  {
   "cell_type": "code",
   "execution_count": 52,
   "metadata": {
    "colab": {
     "base_uri": "https://localhost:8080/"
    },
    "id": "KsqIqdAiLiHr",
    "outputId": "6dc57988-091b-40dc-fb10-3d83e049f460"
   },
   "outputs": [
    {
     "name": "stdout",
     "output_type": "stream",
     "text": [
      "+-------+------+----------+\n",
      "|movieId|userId|prediction|\n",
      "+-------+------+----------+\n",
      "|   1580|   543|   4.57226|\n",
      "|   3175|   543|  4.294949|\n",
      "|   2366|   543|  3.746213|\n",
      "|   1590|   543| 2.9072852|\n",
      "+-------+------+----------+\n",
      "\n"
     ]
    }
   ],
   "source": [
    "movie_ids=[1580,3175,2366,1590]\n",
    "user_ids=[543,543,543,543]\n",
    "new_user_preds=sqlContext.createDataFrame(zip(movie_ids,user_ids),schema=['movieId','userId'])\n",
    "new_predictions=model.transform(new_user_preds)\n",
    "new_predictions.show()"
   ]
  }
 ],
 "metadata": {
  "colab": {
   "provenance": []
  },
  "kernelspec": {
   "display_name": "Python 3 (ipykernel)",
   "language": "python",
   "name": "python3"
  },
  "language_info": {
   "codemirror_mode": {
    "name": "ipython",
    "version": 3
   },
   "file_extension": ".py",
   "mimetype": "text/x-python",
   "name": "python",
   "nbconvert_exporter": "python",
   "pygments_lexer": "ipython3",
   "version": "3.11.5"
  }
 },
 "nbformat": 4,
 "nbformat_minor": 1
}
